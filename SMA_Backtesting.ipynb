{
 "cells": [
  {
   "cell_type": "code",
   "execution_count": 1,
   "metadata": {},
   "outputs": [],
   "source": [
    "from strategies import OANDASMAStrategy"
   ]
  },
  {
   "cell_type": "code",
   "execution_count": 2,
   "metadata": {},
   "outputs": [],
   "source": [
    "strategy_params = {\n",
    "    'instrument': 'EUR_USD', \n",
    "    'short_period': 45, \n",
    "    'long_period': 135, \n",
    "    'start_date': '2010-01-01', \n",
    "    'end_date': '2022-07-22', \n",
    "    'granularity': 'D'\n",
    "}\n",
    "\n",
    "strategy = OANDASMAStrategy(**strategy_params)"
   ]
  },
  {
   "cell_type": "code",
   "execution_count": 3,
   "metadata": {},
   "outputs": [],
   "source": [
    "results = strategy.run_strategy()"
   ]
  },
  {
   "cell_type": "code",
   "execution_count": 4,
   "metadata": {},
   "outputs": [],
   "source": [
    "gbp_usd_params = {\n",
    "    'instrument': 'GBP_USD', \n",
    "    'short_period': 20, \n",
    "    'long_period': 100, \n",
    "    'start_date': '2010-01-01', \n",
    "    'end_date': '2022-07-22', \n",
    "    'granularity': 'D'\n",
    "}\n",
    "\n",
    "gbpusd_strat = OANDASMAStrategy(**gbp_usd_params)"
   ]
  },
  {
   "cell_type": "code",
   "execution_count": 5,
   "metadata": {},
   "outputs": [],
   "source": [
    "gbp_usd_strat_results = gbpusd_strat.run_strategy()"
   ]
  }
 ],
 "metadata": {
  "kernelspec": {
   "display_name": "Python 3.10.4 ('fxtrading')",
   "language": "python",
   "name": "python3"
  },
  "language_info": {
   "codemirror_mode": {
    "name": "ipython",
    "version": 3
   },
   "file_extension": ".py",
   "mimetype": "text/x-python",
   "name": "python",
   "nbconvert_exporter": "python",
   "pygments_lexer": "ipython3",
   "version": "3.10.4"
  },
  "orig_nbformat": 4,
  "vscode": {
   "interpreter": {
    "hash": "11f0e69e0aa3a3db01a20bf96fe3c153d3ce5f8f6523515e0d2a55fec3ad7a89"
   }
  }
 },
 "nbformat": 4,
 "nbformat_minor": 2
}
