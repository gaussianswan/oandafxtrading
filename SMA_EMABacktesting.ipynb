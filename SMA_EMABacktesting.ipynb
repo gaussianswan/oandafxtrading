{
 "cells": [
  {
   "cell_type": "markdown",
   "metadata": {},
   "source": [
    "## Simple Moving Average and Exponential Moving Average mix strategy\n",
    "\n",
    "Can we have a faster moving exponential average and then a simple moving average. If the exponential average is above the simple moving average we can go long and if it is below, we are going to go short. \n",
    "\n",
    "Here, we are going to test out a strategy of EMA period 20 days and SMA period of 100 days"
   ]
  },
  {
   "cell_type": "code",
   "execution_count": 1,
   "metadata": {},
   "outputs": [],
   "source": [
    "import pandas as pd \n",
    "import numpy as np \n",
    "from strategies import OANDASMAEMAStrategy"
   ]
  },
  {
   "cell_type": "code",
   "execution_count": 4,
   "metadata": {},
   "outputs": [],
   "source": [
    "strat_params = {\n",
    "    'instrument': 'EUR_USD', \n",
    "    'ema_period': 20, \n",
    "    'sma_period': 100, \n",
    "    'start_date': '2010-01-01', \n",
    "    'end_date': '2022-07-22', \n",
    "    'granularity': 'D'\n",
    "}\n",
    "\n",
    "strategy = OANDASMAEMAStrategy(**strat_params)"
   ]
  },
  {
   "cell_type": "code",
   "execution_count": 5,
   "metadata": {},
   "outputs": [],
   "source": [
    "results = strategy.run_strategy()"
   ]
  },
  {
   "cell_type": "code",
   "execution_count": 6,
   "metadata": {},
   "outputs": [
    {
     "data": {
      "text/plain": [
       "{'total_return': 0.397101657796322,\n",
       " 'annualized_return': 0.02441865003201663,\n",
       " 'annualized_vol': 0.08207447569778799,\n",
       " 'sharpe': 0.2975181970327804}"
      ]
     },
     "execution_count": 6,
     "metadata": {},
     "output_type": "execute_result"
    }
   ],
   "source": [
    "results[0]"
   ]
  },
  {
   "cell_type": "markdown",
   "metadata": {},
   "source": [
    "Looking at the initial statistics, we can see a very large positive return of 40% over the period. However, annualizing that you have a 2% log return and 8% standard deviation. The sharpe ratio here is about 0.3 which is not that high. \n"
   ]
  },
  {
   "cell_type": "code",
   "execution_count": 13,
   "metadata": {},
   "outputs": [
    {
     "data": {
      "text/html": [
       "<div>\n",
       "<style scoped>\n",
       "    .dataframe tbody tr th:only-of-type {\n",
       "        vertical-align: middle;\n",
       "    }\n",
       "\n",
       "    .dataframe tbody tr th {\n",
       "        vertical-align: top;\n",
       "    }\n",
       "\n",
       "    .dataframe thead th {\n",
       "        text-align: right;\n",
       "    }\n",
       "</style>\n",
       "<table border=\"1\" class=\"dataframe\">\n",
       "  <thead>\n",
       "    <tr style=\"text-align: right;\">\n",
       "      <th></th>\n",
       "      <th>c</th>\n",
       "      <th>log_c</th>\n",
       "      <th>log_c_returns</th>\n",
       "      <th>EMA_20</th>\n",
       "      <th>SMA_100</th>\n",
       "      <th>strategy_position</th>\n",
       "      <th>strategy_return</th>\n",
       "      <th>strategy_cumulative_return</th>\n",
       "    </tr>\n",
       "    <tr>\n",
       "      <th>time</th>\n",
       "      <th></th>\n",
       "      <th></th>\n",
       "      <th></th>\n",
       "      <th></th>\n",
       "      <th></th>\n",
       "      <th></th>\n",
       "      <th></th>\n",
       "      <th></th>\n",
       "    </tr>\n",
       "  </thead>\n",
       "  <tbody>\n",
       "    <tr>\n",
       "      <th>2010-04-13 21:00:00</th>\n",
       "      <td>1.36534</td>\n",
       "      <td>0.311403</td>\n",
       "      <td>0.002919</td>\n",
       "      <td>1.359458</td>\n",
       "      <td>1.379213</td>\n",
       "      <td>-1.0</td>\n",
       "      <td>-0.002919</td>\n",
       "      <td>0.997081</td>\n",
       "    </tr>\n",
       "    <tr>\n",
       "      <th>2010-04-14 21:00:00</th>\n",
       "      <td>1.35729</td>\n",
       "      <td>0.305490</td>\n",
       "      <td>-0.005913</td>\n",
       "      <td>1.359382</td>\n",
       "      <td>1.378483</td>\n",
       "      <td>-1.0</td>\n",
       "      <td>0.005913</td>\n",
       "      <td>1.002994</td>\n",
       "    </tr>\n",
       "    <tr>\n",
       "      <th>2010-04-15 21:00:00</th>\n",
       "      <td>1.35028</td>\n",
       "      <td>0.300312</td>\n",
       "      <td>-0.005178</td>\n",
       "      <td>1.359063</td>\n",
       "      <td>1.377573</td>\n",
       "      <td>-1.0</td>\n",
       "      <td>0.005178</td>\n",
       "      <td>1.008172</td>\n",
       "    </tr>\n",
       "    <tr>\n",
       "      <th>2010-04-16 21:00:00</th>\n",
       "      <td>1.35014</td>\n",
       "      <td>0.300208</td>\n",
       "      <td>-0.000104</td>\n",
       "      <td>1.358751</td>\n",
       "      <td>1.376709</td>\n",
       "      <td>-1.0</td>\n",
       "      <td>0.000104</td>\n",
       "      <td>1.008276</td>\n",
       "    </tr>\n",
       "    <tr>\n",
       "      <th>2010-04-17 21:00:00</th>\n",
       "      <td>1.34744</td>\n",
       "      <td>0.298206</td>\n",
       "      <td>-0.002002</td>\n",
       "      <td>1.358355</td>\n",
       "      <td>1.375776</td>\n",
       "      <td>-1.0</td>\n",
       "      <td>0.002002</td>\n",
       "      <td>1.010278</td>\n",
       "    </tr>\n",
       "  </tbody>\n",
       "</table>\n",
       "</div>"
      ],
      "text/plain": [
       "                           c     log_c  log_c_returns    EMA_20   SMA_100  \\\n",
       "time                                                                        \n",
       "2010-04-13 21:00:00  1.36534  0.311403       0.002919  1.359458  1.379213   \n",
       "2010-04-14 21:00:00  1.35729  0.305490      -0.005913  1.359382  1.378483   \n",
       "2010-04-15 21:00:00  1.35028  0.300312      -0.005178  1.359063  1.377573   \n",
       "2010-04-16 21:00:00  1.35014  0.300208      -0.000104  1.358751  1.376709   \n",
       "2010-04-17 21:00:00  1.34744  0.298206      -0.002002  1.358355  1.375776   \n",
       "\n",
       "                     strategy_position  strategy_return  \\\n",
       "time                                                      \n",
       "2010-04-13 21:00:00               -1.0        -0.002919   \n",
       "2010-04-14 21:00:00               -1.0         0.005913   \n",
       "2010-04-15 21:00:00               -1.0         0.005178   \n",
       "2010-04-16 21:00:00               -1.0         0.000104   \n",
       "2010-04-17 21:00:00               -1.0         0.002002   \n",
       "\n",
       "                     strategy_cumulative_return  \n",
       "time                                             \n",
       "2010-04-13 21:00:00                    0.997081  \n",
       "2010-04-14 21:00:00                    1.002994  \n",
       "2010-04-15 21:00:00                    1.008172  \n",
       "2010-04-16 21:00:00                    1.008276  \n",
       "2010-04-17 21:00:00                    1.010278  "
      ]
     },
     "execution_count": 13,
     "metadata": {},
     "output_type": "execute_result"
    }
   ],
   "source": [
    "result_df = results[1]\n",
    "result_df.head()"
   ]
  },
  {
   "cell_type": "code",
   "execution_count": 17,
   "metadata": {},
   "outputs": [
    {
     "data": {
      "text/plain": [
       "<AxesSubplot:xlabel='time'>"
      ]
     },
     "execution_count": 17,
     "metadata": {},
     "output_type": "execute_result"
    },
    {
     "data": {
      "image/png": "[encoded data removed]",
      "text/plain": [
       "<Figure size 432x288 with 1 Axes>"
      ]
     },
     "metadata": {
      "needs_background": "light"
     },
     "output_type": "display_data"
    }
   ],
   "source": [
    "result_df['strategy_cumulative_return'].plot()"
   ]
  },
  {
   "cell_type": "code",
   "execution_count": 19,
   "metadata": {},
   "outputs": [
    {
     "data": {
      "text/plain": [
       "<AxesSubplot:xlabel='time'>"
      ]
     },
     "execution_count": 19,
     "metadata": {},
     "output_type": "execute_result"
    },
    {
     "data": {
      "image/png": "[encoded data removed]",
      "text/plain": [
       "<Figure size 432x288 with 1 Axes>"
      ]
     },
     "metadata": {
      "needs_background": "light"
     },
     "output_type": "display_data"
    }
   ],
   "source": [
    "result_df['strategy_position'].plot(color = 'red')"
   ]
  },
  {
   "cell_type": "code",
   "execution_count": 26,
   "metadata": {},
   "outputs": [],
   "source": [
    "result_df['drawdown'] = -(result_df['strategy_cumulative_return'].cummax() - result_df['strategy_cumulative_return'])"
   ]
  },
  {
   "cell_type": "code",
   "execution_count": 27,
   "metadata": {},
   "outputs": [
    {
     "data": {
      "text/plain": [
       "<AxesSubplot:xlabel='time'>"
      ]
     },
     "execution_count": 27,
     "metadata": {},
     "output_type": "execute_result"
    },
    {
     "data": {
      "image/png": "[encoded data removed]",
      "text/plain": [
       "<Figure size 432x288 with 1 Axes>"
      ]
     },
     "metadata": {
      "needs_background": "light"
     },
     "output_type": "display_data"
    }
   ],
   "source": [
    "result_df['drawdown'].plot()"
   ]
  },
  {
   "cell_type": "code",
   "execution_count": null,
   "metadata": {},
   "outputs": [],
   "source": []
  }
 ],
 "metadata": {
  "kernelspec": {
   "display_name": "Python 3.10.4 ('fxtrading')",
   "language": "python",
   "name": "python3"
  },
  "language_info": {
   "codemirror_mode": {
    "name": "ipython",
    "version": 3
   },
   "file_extension": ".py",
   "mimetype": "text/x-python",
   "name": "python",
   "nbconvert_exporter": "python",
   "pygments_lexer": "ipython3",
   "version": "3.10.4"
  },
  "orig_nbformat": 4,
  "vscode": {
   "interpreter": {
    "hash": "11f0e69e0aa3a3db01a20bf96fe3c153d3ce5f8f6523515e0d2a55fec3ad7a89"
   }
  }
 },
 "nbformat": 4,
 "nbformat_minor": 2
}
