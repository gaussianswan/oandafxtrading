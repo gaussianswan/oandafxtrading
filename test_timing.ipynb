{
 "cells": [
  {
   "cell_type": "code",
   "execution_count": 6,
   "metadata": {},
   "outputs": [],
   "source": [
    "import pandas as pd \n",
    "import tpqoa\n",
    "import datetime"
   ]
  },
  {
   "cell_type": "code",
   "execution_count": 3,
   "metadata": {},
   "outputs": [],
   "source": [
    "api = tpqoa.tpqoa('oanda.cfg')"
   ]
  },
  {
   "cell_type": "code",
   "execution_count": 19,
   "metadata": {},
   "outputs": [],
   "source": [
    "class Streamer(tpqoa.tpqoa): \n",
    "\n",
    "    def __init__(self, conf_file: str = 'oanda.cfg', timeout: int = 25): \n",
    "        super().__init__(conf_file=conf_file)\n",
    "        self.timeout = timeout\n",
    "\n",
    "    def on_success(self, time, bid, ask): \n",
    "        timestamp = pd.Timestamp(time, tz = 'UTC')\n",
    "        time_diff = (timestamp - self.start_time).total_seconds()\n",
    "        \n",
    "        if time_diff > self.timeout: \n",
    "            print(\"Stopping program\")\n",
    "            self.stop_stream = True\n",
    "        else: \n",
    "            print(f'{time_diff} seconds have elapsed')\n",
    "\n",
    "    def run(self): \n",
    "        self.start_time = pd.Timestamp(datetime.datetime.utcnow(), tz = 'UTC')\n",
    "        self.stream_data(instrument='EUR_USD')\n"
   ]
  },
  {
   "cell_type": "code",
   "execution_count": 20,
   "metadata": {},
   "outputs": [],
   "source": [
    "stream = Streamer()"
   ]
  },
  {
   "cell_type": "code",
   "execution_count": 21,
   "metadata": {},
   "outputs": [
    {
     "name": "stdout",
     "output_type": "stream",
     "text": [
      "-0.327011 seconds have elapsed\n",
      "9.328726 seconds have elapsed\n",
      "10.474756 seconds have elapsed\n",
      "10.906388 seconds have elapsed\n",
      "11.098225 seconds have elapsed\n",
      "11.43428 seconds have elapsed\n",
      "12.270793 seconds have elapsed\n",
      "13.450661 seconds have elapsed\n",
      "16.679168 seconds have elapsed\n",
      "17.259662 seconds have elapsed\n",
      "22.546497 seconds have elapsed\n",
      "23.881804 seconds have elapsed\n",
      "24.172715 seconds have elapsed\n",
      "24.318526 seconds have elapsed\n",
      "24.560064 seconds have elapsed\n",
      "24.853943 seconds have elapsed\n",
      "Stopping program\n"
     ]
    }
   ],
   "source": [
    "stream.run()"
   ]
  },
  {
   "cell_type": "code",
   "execution_count": 27,
   "metadata": {},
   "outputs": [
    {
     "data": {
      "text/plain": [
       "Timestamp('2022-07-26 15:49:19.789667+0000', tz='UTC')"
      ]
     },
     "execution_count": 27,
     "metadata": {},
     "output_type": "execute_result"
    }
   ],
   "source": [
    "pd.Timestamp(datetime.datetime.utcnow(), tz = 'UTC')"
   ]
  },
  {
   "cell_type": "code",
   "execution_count": null,
   "metadata": {},
   "outputs": [],
   "source": []
  }
 ],
 "metadata": {
  "kernelspec": {
   "display_name": "Python 3.10.4 ('fxtrading')",
   "language": "python",
   "name": "python3"
  },
  "language_info": {
   "codemirror_mode": {
    "name": "ipython",
    "version": 3
   },
   "file_extension": ".py",
   "mimetype": "text/x-python",
   "name": "python",
   "nbconvert_exporter": "python",
   "pygments_lexer": "ipython3",
   "version": "3.10.4"
  },
  "orig_nbformat": 4,
  "vscode": {
   "interpreter": {
    "hash": "851d95b313a6db1d622814b9baca31e5b1ad6fd6db85c0a95f4872a1ae46af27"
   }
  }
 },
 "nbformat": 4,
 "nbformat_minor": 2
}
