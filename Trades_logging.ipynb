{
 "cells": [
  {
   "cell_type": "markdown",
   "metadata": {},
   "source": [
    "### Saving down trade information\n",
    "\n",
    "As we make trades, we have to save down the information that comes from the system so that we can track pnl and other things. "
   ]
  },
  {
   "cell_type": "code",
   "execution_count": 1,
   "metadata": {},
   "outputs": [],
   "source": [
    "import tpqoa\n",
    "import pandas as pd"
   ]
  },
  {
   "cell_type": "code",
   "execution_count": 2,
   "metadata": {},
   "outputs": [],
   "source": [
    "api = tpqoa.tpqoa('oanda.cfg')"
   ]
  },
  {
   "cell_type": "code",
   "execution_count": 20,
   "metadata": {},
   "outputs": [],
   "source": [
    "instrument = 'EUR_USD'\n",
    "size = -500\n",
    "trade = api.create_order(\n",
    "    instrument=instrument, \n",
    "    units = size, \n",
    "    ret = True, \n",
    "    suppress=True\n",
    ")"
   ]
  },
  {
   "cell_type": "code",
   "execution_count": 17,
   "metadata": {},
   "outputs": [],
   "source": [
    "class Trade: \n",
    "\n",
    "    def __init__(self, oanda_fill_dict: dict, timezome = 'US/Eastern'): \n",
    "\n",
    "        for key, value in oanda_fill_dict.items(): \n",
    "            setattr(self, f\"{key}\", value)\n",
    "\n",
    "        self.time = pd.Timestamp(self.time, tz=timezome)\n",
    "        self.units = float(self.units)\n",
    "        self.price = float(self.price)\n",
    "        \n",
    "        "
   ]
  },
  {
   "cell_type": "code",
   "execution_count": 18,
   "metadata": {},
   "outputs": [],
   "source": [
    "\n",
    "t = Trade(trade)"
   ]
  },
  {
   "cell_type": "code",
   "execution_count": 22,
   "metadata": {},
   "outputs": [],
   "source": [
    "short = Trade(trade)"
   ]
  },
  {
   "cell_type": "code",
   "execution_count": 23,
   "metadata": {},
   "outputs": [
    {
     "data": {
      "text/plain": [
       "'-500.0'"
      ]
     },
     "execution_count": 23,
     "metadata": {},
     "output_type": "execute_result"
    }
   ],
   "source": [
    "short.units"
   ]
  },
  {
   "cell_type": "code",
   "execution_count": 24,
   "metadata": {},
   "outputs": [
    {
     "data": {
      "text/plain": [
       "{'id': '317',\n",
       " 'time': '2022-07-25T12:57:23.264332753Z',\n",
       " 'userID': 22847722,\n",
       " 'accountID': '101-001-22847722-002',\n",
       " 'batchID': '316',\n",
       " 'requestID': '79014911920551121',\n",
       " 'type': 'ORDER_FILL',\n",
       " 'orderID': '316',\n",
       " 'instrument': 'EUR_USD',\n",
       " 'units': '-500.0',\n",
       " 'gainQuoteHomeConversionFactor': '1.0',\n",
       " 'lossQuoteHomeConversionFactor': '1.0',\n",
       " 'price': 1.02428,\n",
       " 'fullVWAP': 1.02428,\n",
       " 'fullPrice': {'type': 'PRICE',\n",
       "  'bids': [{'price': 1.02428, 'liquidity': '10000000'}],\n",
       "  'asks': [{'price': 1.02444, 'liquidity': '10000000'}],\n",
       "  'closeoutBid': 1.02428,\n",
       "  'closeoutAsk': 1.02444},\n",
       " 'reason': 'MARKET_ORDER',\n",
       " 'pl': '-0.02',\n",
       " 'financing': '0.0',\n",
       " 'commission': '0.0',\n",
       " 'guaranteedExecutionFee': '0.0',\n",
       " 'accountBalance': '99942.232',\n",
       " 'tradeReduced': {'tradeID': '315',\n",
       "  'units': '-500.0',\n",
       "  'price': 1.02428,\n",
       "  'realizedPL': '-0.02',\n",
       "  'financing': '0.0',\n",
       "  'guaranteedExecutionFee': '0.0',\n",
       "  'halfSpreadCost': '0.04'},\n",
       " 'halfSpreadCost': '0.04'}"
      ]
     },
     "execution_count": 24,
     "metadata": {},
     "output_type": "execute_result"
    }
   ],
   "source": [
    "trade "
   ]
  },
  {
   "cell_type": "code",
   "execution_count": null,
   "metadata": {},
   "outputs": [],
   "source": []
  }
 ],
 "metadata": {
  "kernelspec": {
   "display_name": "Python 3.10.4 ('fxtrading')",
   "language": "python",
   "name": "python3"
  },
  "language_info": {
   "codemirror_mode": {
    "name": "ipython",
    "version": 3
   },
   "file_extension": ".py",
   "mimetype": "text/x-python",
   "name": "python",
   "nbconvert_exporter": "python",
   "pygments_lexer": "ipython3",
   "version": "3.10.4"
  },
  "orig_nbformat": 4,
  "vscode": {
   "interpreter": {
    "hash": "11f0e69e0aa3a3db01a20bf96fe3c153d3ce5f8f6523515e0d2a55fec3ad7a89"
   }
  }
 },
 "nbformat": 4,
 "nbformat_minor": 2
}
