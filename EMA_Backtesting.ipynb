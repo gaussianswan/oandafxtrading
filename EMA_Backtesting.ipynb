{
 "cells": [
  {
   "cell_type": "code",
   "execution_count": 11,
   "metadata": {},
   "outputs": [],
   "source": [
    "import pandas as pd \n",
    "import numpy as np \n",
    "\n",
    "from itertools import product\n",
    "from strategies import OANDAEMAStrategy"
   ]
  },
  {
   "cell_type": "code",
   "execution_count": 8,
   "metadata": {},
   "outputs": [],
   "source": [
    "instrument = 'GBP_USD'\n",
    "start_date = '2015-01-01'\n",
    "end_date = '2022-07-22'\n",
    "short_half_life = 15 \n",
    "long_half_life = 45\n",
    "granularity = 'D'\n",
    "\n",
    "strategy = OANDAEMAStrategy(\n",
    "    instrument=instrument, \n",
    "    short_halflife=short_half_life, \n",
    "    long_halflife=long_half_life, \n",
    "    start_date=start_date, \n",
    "    end_date=end_date, \n",
    "    granularity=granularity\n",
    ")"
   ]
  },
  {
   "cell_type": "code",
   "execution_count": 18,
   "metadata": {},
   "outputs": [],
   "source": [
    "shorts = [5, 10, 15]\n",
    "longs = [20, 40, 60]\n",
    "\n",
    "all_halflives = product(shorts, longs)"
   ]
  },
  {
   "cell_type": "code",
   "execution_count": 19,
   "metadata": {},
   "outputs": [
    {
     "name": "stdout",
     "output_type": "stream",
     "text": [
      "Running strategy for 5 for short halflife and 20 for long halflife\n",
      "Running strategy for 5 for short halflife and 40 for long halflife\n",
      "Running strategy for 5 for short halflife and 60 for long halflife\n",
      "Running strategy for 10 for short halflife and 20 for long halflife\n",
      "Running strategy for 10 for short halflife and 40 for long halflife\n",
      "Running strategy for 10 for short halflife and 60 for long halflife\n",
      "Running strategy for 15 for short halflife and 20 for long halflife\n",
      "Running strategy for 15 for short halflife and 40 for long halflife\n",
      "Running strategy for 15 for short halflife and 60 for long halflife\n"
     ]
    }
   ],
   "source": [
    "instrument = 'GBP_USD'\n",
    "start_date = '2015-01-01'\n",
    "end_date = '2022-07-22'\n",
    "granularity = 'D'\n",
    "\n",
    "all_results = {}\n",
    "for halflives in all_halflives: \n",
    "    short_ema = halflives[0]\n",
    "    long_ema = halflives[1]\n",
    "\n",
    "    if short_ema < long_ema: \n",
    "        print(\"Running strategy for {} for short halflife and {} for long halflife\".format(short_ema, long_ema))\n",
    "        strategy = OANDAEMAStrategy(\n",
    "        instrument=instrument, \n",
    "        short_halflife=short_ema, \n",
    "        long_halflife=long_ema, \n",
    "        start_date=start_date, \n",
    "        end_date=end_date, \n",
    "        granularity=granularity\n",
    "        )\n",
    "\n",
    "        results = strategy.run_strategy()\n",
    "        all_results[halflives] = results[0]\n",
    "\n",
    "\n"
   ]
  }
 ],
 "metadata": {
  "kernelspec": {
   "display_name": "Python 3.10.4 ('fxtrading')",
   "language": "python",
   "name": "python3"
  },
  "language_info": {
   "codemirror_mode": {
    "name": "ipython",
    "version": 3
   },
   "file_extension": ".py",
   "mimetype": "text/x-python",
   "name": "python",
   "nbconvert_exporter": "python",
   "pygments_lexer": "ipython3",
   "version": "3.10.4"
  },
  "orig_nbformat": 4,
  "vscode": {
   "interpreter": {
    "hash": "11f0e69e0aa3a3db01a20bf96fe3c153d3ce5f8f6523515e0d2a55fec3ad7a89"
   }
  }
 },
 "nbformat": 4,
 "nbformat_minor": 2
}
