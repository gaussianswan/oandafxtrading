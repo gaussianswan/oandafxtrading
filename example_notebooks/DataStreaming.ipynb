{
 "cells": [
  {
   "cell_type": "markdown",
   "metadata": {},
   "source": [
    "## Handling incoming data from oanda\n",
    "\n",
    "For any trading class, we have to take in input data and then use that to make decisions. Here, demonstrating how we can get information and save it down to the class"
   ]
  },
  {
   "cell_type": "code",
   "execution_count": 1,
   "metadata": {},
   "outputs": [],
   "source": [
    "import pandas as pd \n",
    "import numpy as np \n",
    "import tpqoa"
   ]
  },
  {
   "cell_type": "code",
   "execution_count": 23,
   "metadata": {},
   "outputs": [],
   "source": [
    "class Trader(tpqoa.tpqoa): \n",
    "\n",
    "    def __init__(self):\n",
    "        super().__init__('oanda.cfg')\n",
    "        self._data = pd.DataFrame()\n",
    "\n",
    "    def on_success(self, time, bid, ask): \n",
    "        print(\"Hit\")\n",
    "        bid_ask_spread = (ask - bid)\n",
    "        mid = bid + (bid_ask_spread) / 2\n",
    "        df = pd.DataFrame([[time, bid, ask, mid, bid_ask_spread]], columns = ['Time', 'Bid', 'Ask', 'Mid', 'Spread'])\n",
    "        df.set_index('Time', inplace = True)\n",
    "        df.index = pd.to_datetime(df.index)\n",
    "        self._data = pd.concat([self._data, df])\n",
    "\n",
    "    def get_historical_data(self): \n",
    "        return self._data\n",
    "\n",
    "    \n",
    "        \n",
    "    \n"
   ]
  },
  {
   "cell_type": "code",
   "execution_count": 24,
   "metadata": {},
   "outputs": [],
   "source": [
    "sample = Trader()"
   ]
  },
  {
   "cell_type": "code",
   "execution_count": null,
   "metadata": {},
   "outputs": [],
   "source": [
    "sample.stream_data(instrument='GBP_USD', stop = 100)"
   ]
  },
  {
   "cell_type": "code",
   "execution_count": 26,
   "metadata": {},
   "outputs": [],
   "source": [
    "data = sample.get_historical_data()"
   ]
  },
  {
   "cell_type": "code",
   "execution_count": 6,
   "metadata": {},
   "outputs": [],
   "source": [
    "# data = pd.read_csv(\"test_data/sample_tick_data.csv\", parse_dates = True)\n",
    "# data.set_index('Time', inplace = True)\n",
    "# data.index = pd.to_datetime(data.index)"
   ]
  },
  {
   "cell_type": "code",
   "execution_count": 31,
   "metadata": {},
   "outputs": [],
   "source": [
    "resampled = data.resample('10S')"
   ]
  },
  {
   "cell_type": "code",
   "execution_count": 32,
   "metadata": {},
   "outputs": [],
   "source": [
    "h = resampled.max().fillna(method = 'ffill')\n",
    "l = resampled.min().fillna(method = 'ffill')\n",
    "o = resampled.first().fillna(method = 'ffill')\n",
    "c = resampled.last().fillna(method = 'ffill')"
   ]
  },
  {
   "cell_type": "code",
   "execution_count": 33,
   "metadata": {},
   "outputs": [],
   "source": [
    "ohlc = pd.concat([o['Mid'], h['Mid'], l['Mid'], c['Mid']], axis = 1)\n",
    "ohlc.columns = ['Open', 'High', 'Low', 'Close']"
   ]
  },
  {
   "cell_type": "code",
   "execution_count": 34,
   "metadata": {},
   "outputs": [
    {
     "data": {
      "text/html": [
       "<div>\n",
       "<style scoped>\n",
       "    .dataframe tbody tr th:only-of-type {\n",
       "        vertical-align: middle;\n",
       "    }\n",
       "\n",
       "    .dataframe tbody tr th {\n",
       "        vertical-align: top;\n",
       "    }\n",
       "\n",
       "    .dataframe thead th {\n",
       "        text-align: right;\n",
       "    }\n",
       "</style>\n",
       "<table border=\"1\" class=\"dataframe\">\n",
       "  <thead>\n",
       "    <tr style=\"text-align: right;\">\n",
       "      <th></th>\n",
       "      <th>Open</th>\n",
       "      <th>High</th>\n",
       "      <th>Low</th>\n",
       "      <th>Close</th>\n",
       "    </tr>\n",
       "    <tr>\n",
       "      <th>Time</th>\n",
       "      <th></th>\n",
       "      <th></th>\n",
       "      <th></th>\n",
       "      <th></th>\n",
       "    </tr>\n",
       "  </thead>\n",
       "  <tbody>\n",
       "    <tr>\n",
       "      <th>2022-07-24 23:59:50+00:00</th>\n",
       "      <td>1.198565</td>\n",
       "      <td>1.198565</td>\n",
       "      <td>1.198565</td>\n",
       "      <td>1.198565</td>\n",
       "    </tr>\n",
       "    <tr>\n",
       "      <th>2022-07-25 00:00:00+00:00</th>\n",
       "      <td>1.198585</td>\n",
       "      <td>1.198585</td>\n",
       "      <td>1.198450</td>\n",
       "      <td>1.198480</td>\n",
       "    </tr>\n",
       "    <tr>\n",
       "      <th>2022-07-25 00:00:10+00:00</th>\n",
       "      <td>1.198485</td>\n",
       "      <td>1.198550</td>\n",
       "      <td>1.198400</td>\n",
       "      <td>1.198405</td>\n",
       "    </tr>\n",
       "    <tr>\n",
       "      <th>2022-07-25 00:00:20+00:00</th>\n",
       "      <td>1.198425</td>\n",
       "      <td>1.198445</td>\n",
       "      <td>1.198365</td>\n",
       "      <td>1.198370</td>\n",
       "    </tr>\n",
       "    <tr>\n",
       "      <th>2022-07-25 00:00:30+00:00</th>\n",
       "      <td>1.198370</td>\n",
       "      <td>1.198500</td>\n",
       "      <td>1.198370</td>\n",
       "      <td>1.198475</td>\n",
       "    </tr>\n",
       "    <tr>\n",
       "      <th>2022-07-25 00:00:40+00:00</th>\n",
       "      <td>1.198480</td>\n",
       "      <td>1.198595</td>\n",
       "      <td>1.198465</td>\n",
       "      <td>1.198570</td>\n",
       "    </tr>\n",
       "  </tbody>\n",
       "</table>\n",
       "</div>"
      ],
      "text/plain": [
       "                               Open      High       Low     Close\n",
       "Time                                                             \n",
       "2022-07-24 23:59:50+00:00  1.198565  1.198565  1.198565  1.198565\n",
       "2022-07-25 00:00:00+00:00  1.198585  1.198585  1.198450  1.198480\n",
       "2022-07-25 00:00:10+00:00  1.198485  1.198550  1.198400  1.198405\n",
       "2022-07-25 00:00:20+00:00  1.198425  1.198445  1.198365  1.198370\n",
       "2022-07-25 00:00:30+00:00  1.198370  1.198500  1.198370  1.198475\n",
       "2022-07-25 00:00:40+00:00  1.198480  1.198595  1.198465  1.198570"
      ]
     },
     "execution_count": 34,
     "metadata": {},
     "output_type": "execute_result"
    }
   ],
   "source": [
    "ohlc"
   ]
  },
  {
   "cell_type": "code",
   "execution_count": null,
   "metadata": {},
   "outputs": [],
   "source": []
  }
 ],
 "metadata": {
  "kernelspec": {
   "display_name": "Python 3.10.4 ('fxtrading')",
   "language": "python",
   "name": "python3"
  },
  "language_info": {
   "codemirror_mode": {
    "name": "ipython",
    "version": 3
   },
   "file_extension": ".py",
   "mimetype": "text/x-python",
   "name": "python",
   "nbconvert_exporter": "python",
   "pygments_lexer": "ipython3",
   "version": "3.10.4"
  },
  "orig_nbformat": 4,
  "vscode": {
   "interpreter": {
    "hash": "851d95b313a6db1d622814b9baca31e5b1ad6fd6db85c0a95f4872a1ae46af27"
   }
  }
 },
 "nbformat": 4,
 "nbformat_minor": 2
}
