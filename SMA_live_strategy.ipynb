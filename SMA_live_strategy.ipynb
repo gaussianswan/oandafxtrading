{
 "cells": [
  {
   "cell_type": "markdown",
   "metadata": {},
   "source": [
    "### Implemenation of Live Simple Moving Average Strategy\n",
    "\n",
    "I am going to implement the simple moving average strategy to listen to incoming data and make the necessary trades. Here are some of the configurations: \n",
    "* Short MA: 20 minutes\n",
    "* Long MA: 100 minutes\n",
    "* Instrument: EUR_USD"
   ]
  },
  {
   "cell_type": "code",
   "execution_count": 1,
   "metadata": {},
   "outputs": [],
   "source": [
    "import pandas as pd \n",
    "from livestrategies import OANDASMALiveStrategy"
   ]
  },
  {
   "cell_type": "code",
   "execution_count": 3,
   "metadata": {},
   "outputs": [],
   "source": [
    "strat_params = {\n",
    "    'instrument': 'EUR_USD', \n",
    "    'short_period': 10, \n",
    "    'long_period': 30, \n",
    "    'granularity': pd.Timedelta(seconds = 5), \n",
    "    'trade_size': 1000\n",
    "}\n",
    "\n",
    "strategy = OANDASMALiveStrategy(**strat_params)"
   ]
  },
  {
   "cell_type": "code",
   "execution_count": 4,
   "metadata": {},
   "outputs": [
    {
     "name": "stdout",
     "output_type": "stream",
     "text": [
      "20\n",
      "40\n",
      "60\n",
      "\n",
      "\n",
      " {'id': '311', 'time': '2022-07-25T04:48:08.535050881Z', 'userID': 22847722, 'accountID': '101-001-22847722-002', 'batchID': '310', 'requestID': '79014788793692835', 'type': 'ORDER_FILL', 'orderID': '310', 'instrument': 'EUR_USD', 'units': '1000.0', 'gainQuoteHomeConversionFactor': '1.0', 'lossQuoteHomeConversionFactor': '1.0', 'price': 1.02061, 'fullVWAP': 1.02061, 'fullPrice': {'type': 'PRICE', 'bids': [{'price': 1.02044, 'liquidity': '10000000'}], 'asks': [{'price': 1.02061, 'liquidity': '10000000'}], 'closeoutBid': 1.02044, 'closeoutAsk': 1.02061}, 'reason': 'MARKET_ORDER', 'pl': '0.0', 'financing': '0.0', 'commission': '0.0', 'guaranteedExecutionFee': '0.0', 'accountBalance': '99942.222', 'tradeOpened': {'tradeID': '311', 'units': '1000.0', 'price': 1.02061, 'guaranteedExecutionFee': '0.0', 'halfSpreadCost': '0.085', 'initialMarginRequired': '51.026'}, 'halfSpreadCost': '0.085'} \n",
      "\n",
      "Going long EUR_USD at a price of 1.02061\n",
      "80\n",
      "100\n",
      "120\n",
      "140\n",
      "\n",
      "\n",
      " {'id': '313', 'time': '2022-07-25T04:50:46.855219007Z', 'userID': 22847722, 'accountID': '101-001-22847722-002', 'batchID': '312', 'requestID': '79014789456541708', 'type': 'ORDER_FILL', 'orderID': '312', 'instrument': 'EUR_USD', 'units': '-1000.0', 'gainQuoteHomeConversionFactor': '1.0', 'lossQuoteHomeConversionFactor': '1.0', 'price': 1.02064, 'fullVWAP': 1.02064, 'fullPrice': {'type': 'PRICE', 'bids': [{'price': 1.02064, 'liquidity': '10000000'}], 'asks': [{'price': 1.02079, 'liquidity': '10000000'}], 'closeoutBid': 1.02064, 'closeoutAsk': 1.02079}, 'reason': 'MARKET_ORDER', 'pl': '0.03', 'financing': '0.0', 'commission': '0.0', 'guaranteedExecutionFee': '0.0', 'accountBalance': '99942.252', 'tradesClosed': [{'tradeID': '311', 'units': '-1000.0', 'price': 1.02064, 'realizedPL': '0.03', 'financing': '0.0', 'guaranteedExecutionFee': '0.0', 'halfSpreadCost': '0.075'}], 'halfSpreadCost': '0.075'} \n",
      "\n",
      "All positions closed out!\n"
     ]
    }
   ],
   "source": [
    "strategy.run(stop = 150)"
   ]
  }
 ],
 "metadata": {
  "kernelspec": {
   "display_name": "Python 3.10.4 ('fxtrading')",
   "language": "python",
   "name": "python3"
  },
  "language_info": {
   "codemirror_mode": {
    "name": "ipython",
    "version": 3
   },
   "file_extension": ".py",
   "mimetype": "text/x-python",
   "name": "python",
   "nbconvert_exporter": "python",
   "pygments_lexer": "ipython3",
   "version": "3.10.4"
  },
  "orig_nbformat": 4,
  "vscode": {
   "interpreter": {
    "hash": "11f0e69e0aa3a3db01a20bf96fe3c153d3ce5f8f6523515e0d2a55fec3ad7a89"
   }
  }
 },
 "nbformat": 4,
 "nbformat_minor": 2
}
