{
 "cells": [
  {
   "cell_type": "markdown",
   "metadata": {},
   "source": [
    "# Sandbox notebook\n",
    "\n",
    "Need to make sure that the"
   ]
  },
  {
   "cell_type": "code",
   "execution_count": 1,
   "metadata": {},
   "outputs": [],
   "source": [
    "import pandas as pd \n",
    "import numpy as np \n",
    "import tpqoa\n",
    "\n",
    "api = tpqoa.tpqoa('oanda.cfg')"
   ]
  },
  {
   "cell_type": "code",
   "execution_count": 2,
   "metadata": {},
   "outputs": [],
   "source": [
    "all_instruments = api.get_instruments()"
   ]
  },
  {
   "cell_type": "code",
   "execution_count": 6,
   "metadata": {},
   "outputs": [],
   "source": [
    "all_instruments_dict = dict(all_instruments)"
   ]
  },
  {
   "cell_type": "code",
   "execution_count": 3,
   "metadata": {},
   "outputs": [
    {
     "data": {
      "text/plain": [
       "[('USD/PLN', 'USD_PLN'),\n",
       " ('GBP/AUD', 'GBP_AUD'),\n",
       " ('EUR/USD', 'EUR_USD'),\n",
       " ('AUD/USD', 'AUD_USD'),\n",
       " ('EUR/SGD', 'EUR_SGD'),\n",
       " ('NZD/CAD', 'NZD_CAD'),\n",
       " ('USD/HUF', 'USD_HUF'),\n",
       " ('EUR/CAD', 'EUR_CAD'),\n",
       " ('EUR/CHF', 'EUR_CHF'),\n",
       " ('USD/CAD', 'USD_CAD'),\n",
       " ('CHF/HKD', 'CHF_HKD'),\n",
       " ('NZD/JPY', 'NZD_JPY'),\n",
       " ('EUR/AUD', 'EUR_AUD'),\n",
       " ('EUR/ZAR', 'EUR_ZAR'),\n",
       " ('AUD/JPY', 'AUD_JPY'),\n",
       " ('USD/DKK', 'USD_DKK'),\n",
       " ('TRY/JPY', 'TRY_JPY'),\n",
       " ('ZAR/JPY', 'ZAR_JPY'),\n",
       " ('SGD/JPY', 'SGD_JPY'),\n",
       " ('GBP/ZAR', 'GBP_ZAR'),\n",
       " ('USD/JPY', 'USD_JPY'),\n",
       " ('EUR/TRY', 'EUR_TRY'),\n",
       " ('EUR/CZK', 'EUR_CZK'),\n",
       " ('GBP/JPY', 'GBP_JPY'),\n",
       " ('USD/TRY', 'USD_TRY'),\n",
       " ('USD/CHF', 'USD_CHF'),\n",
       " ('EUR/JPY', 'EUR_JPY'),\n",
       " ('AUD/SGD', 'AUD_SGD'),\n",
       " ('SGD/CHF', 'SGD_CHF'),\n",
       " ('EUR/NZD', 'EUR_NZD'),\n",
       " ('GBP/HKD', 'GBP_HKD'),\n",
       " ('CHF/JPY', 'CHF_JPY'),\n",
       " ('EUR/HKD', 'EUR_HKD'),\n",
       " ('USD/THB', 'USD_THB'),\n",
       " ('GBP/CHF', 'GBP_CHF'),\n",
       " ('CAD/JPY', 'CAD_JPY'),\n",
       " ('USD/ZAR', 'USD_ZAR'),\n",
       " ('USD/CZK', 'USD_CZK'),\n",
       " ('GBP/SGD', 'GBP_SGD'),\n",
       " ('USD/SEK', 'USD_SEK'),\n",
       " ('USD/MXN', 'USD_MXN'),\n",
       " ('GBP/USD', 'GBP_USD'),\n",
       " ('EUR/DKK', 'EUR_DKK'),\n",
       " ('CAD/CHF', 'CAD_CHF'),\n",
       " ('EUR/GBP', 'EUR_GBP'),\n",
       " ('CAD/HKD', 'CAD_HKD'),\n",
       " ('EUR/NOK', 'EUR_NOK'),\n",
       " ('GBP/CAD', 'GBP_CAD'),\n",
       " ('NZD/HKD', 'NZD_HKD'),\n",
       " ('GBP/PLN', 'GBP_PLN'),\n",
       " ('EUR/PLN', 'EUR_PLN'),\n",
       " ('AUD/CAD', 'AUD_CAD'),\n",
       " ('USD/HKD', 'USD_HKD'),\n",
       " ('CAD/SGD', 'CAD_SGD'),\n",
       " ('GBP/NZD', 'GBP_NZD'),\n",
       " ('CHF/ZAR', 'CHF_ZAR'),\n",
       " ('USD/CNH', 'USD_CNH'),\n",
       " ('NZD/USD', 'NZD_USD'),\n",
       " ('EUR/HUF', 'EUR_HUF'),\n",
       " ('AUD/NZD', 'AUD_NZD'),\n",
       " ('USD/NOK', 'USD_NOK'),\n",
       " ('NZD/SGD', 'NZD_SGD'),\n",
       " ('HKD/JPY', 'HKD_JPY'),\n",
       " ('AUD/CHF', 'AUD_CHF'),\n",
       " ('NZD/CHF', 'NZD_CHF'),\n",
       " ('EUR/SEK', 'EUR_SEK'),\n",
       " ('USD/SGD', 'USD_SGD'),\n",
       " ('AUD/HKD', 'AUD_HKD')]"
      ]
     },
     "execution_count": 3,
     "metadata": {},
     "output_type": "execute_result"
    }
   ],
   "source": [
    "import pandas as pd \n",
    "import numpy as np \n",
    "import tpqoa\n",
    "class OANDAHistoricalData: \n",
    "\n",
    "    def __init__(self, instrument: str, start_date: str, end_date: str, granularity: str, config_file_path: str = None) -> None:\n",
    "\n",
    "        if config_file_path: \n",
    "            self.__api = tpqoa.tpqoa(config_file_path)\n",
    "        else: \n",
    "            self.__api = tpqoa.tpqoa('oanda.cfg')\n",
    "\n",
    "        self.instruments_mapping = dict(self.__api.get_instruments());\n",
    "        self._allowable_instruments = tuple(self.instruments_mapping.values()); \n",
    "        \n",
    "        assert instrument in self._allowable_instruments, ''\n",
    "\n",
    "        self._instrument = instrument; \n",
    "        self._start_date = start_date; \n",
    "        self._end_date = end_date; \n",
    "        self._granularity = granularity; \n",
    "        self.data = self.get_data(); \n",
    "\n",
    "    def get_data(self): \n",
    "        data = self.__api.get_history(\n",
    "            instrument=self._instrument, \n",
    "            start = self._start_date, \n",
    "            end = self._end_date, \n",
    "            granularity= self._granularity\n",
    "        )\n",
    "\n",
    "        return data\n",
    "\n",
    "    def __repr__(self): \n",
    "\n",
    "        return \"OANDAHistoricalData(instrument = '{}', start_date = '{}', end_date = '{}', granularity = '{}')\".format(self._instrument, self._start_date, self._end_date, self._granularity); \n",
    "\n",
    "    def __str__(self): \n",
    "\n",
    "        return \"Historical OANDA pricing data for {} from {} to {} with a granularity of {}\".format(self._instrument, self._start_date, self._end_date, self._granularity)\n",
    "    \n",
    "\n",
    "\n",
    "        "
   ]
  },
  {
   "cell_type": "code",
   "execution_count": null,
   "metadata": {},
   "outputs": [],
   "source": []
  }
 ],
 "metadata": {
  "kernelspec": {
   "display_name": "Python 3.10.4 ('fxtrading')",
   "language": "python",
   "name": "python3"
  },
  "language_info": {
   "codemirror_mode": {
    "name": "ipython",
    "version": 3
   },
   "file_extension": ".py",
   "mimetype": "text/x-python",
   "name": "python",
   "nbconvert_exporter": "python",
   "pygments_lexer": "ipython3",
   "version": "3.10.4"
  },
  "orig_nbformat": 4,
  "vscode": {
   "interpreter": {
    "hash": "11f0e69e0aa3a3db01a20bf96fe3c153d3ce5f8f6523515e0d2a55fec3ad7a89"
   }
  }
 },
 "nbformat": 4,
 "nbformat_minor": 2
}
